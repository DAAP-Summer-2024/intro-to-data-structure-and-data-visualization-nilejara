{
 "cells": [
  {
   "cell_type": "markdown",
   "metadata": {},
   "source": [
    "# Data Analysis for Physics and Astronomy\n",
    "## Sommersemster 2024 \n",
    "# Assignment 1\n",
    "\n",
    "Due: **10:00 30. April 2024**\n",
    "\n",
    "Discussion: **12:00 30. April 2024**\n",
    "\n",
    "**Online submission** at via github classroom  "
   ]
  },
  {
   "cell_type": "markdown",
   "metadata": {},
   "source": [
    "# 1. Sampling [70 points]\n",
    "\n",
    "The Behavioral Risk Factor Surveillance System (BRFSS) is an annual telephone survey of 350,000 people in the United States. As its\n",
    "name implies, the BRFSS is designed to identify risk factors in the adult population and report emerging health trends. For example,\n",
    "respondents are asked about their diet and weekly physical activity, their HIV/AIDS status, possible tobacco use, and even their level of\n",
    "healthcare coverage. The BRFSS Web site (http://www.cdc.gov/brfss) contains a complete description of the survey, including the research\n",
    "questions that motivate the study and many interesting results derived from the data."
   ]
  },
  {
   "cell_type": "code",
   "execution_count": null,
   "metadata": {},
   "outputs": [
    {
     "ename": "ModuleNotFoundError",
     "evalue": "No module named 'matplotlib'",
     "output_type": "error",
     "traceback": [
      "\u001b[0;31m---------------------------------------------------------------------------\u001b[0m",
      "\u001b[0;31mModuleNotFoundError\u001b[0m                       Traceback (most recent call last)",
      "Cell \u001b[0;32mIn[8], line 1\u001b[0m\n\u001b[0;32m----> 1\u001b[0m \u001b[43mget_ipython\u001b[49m\u001b[43m(\u001b[49m\u001b[43m)\u001b[49m\u001b[38;5;241;43m.\u001b[39;49m\u001b[43mrun_line_magic\u001b[49m\u001b[43m(\u001b[49m\u001b[38;5;124;43m'\u001b[39;49m\u001b[38;5;124;43mmatplotlib\u001b[39;49m\u001b[38;5;124;43m'\u001b[39;49m\u001b[43m,\u001b[49m\u001b[43m \u001b[49m\u001b[38;5;124;43m'\u001b[39;49m\u001b[38;5;124;43minline\u001b[39;49m\u001b[38;5;124;43m'\u001b[39;49m\u001b[43m)\u001b[49m\n",
      "File \u001b[0;32m~/.local/lib/python3.10/site-packages/IPython/core/interactiveshell.py:2482\u001b[0m, in \u001b[0;36mInteractiveShell.run_line_magic\u001b[0;34m(self, magic_name, line, _stack_depth)\u001b[0m\n\u001b[1;32m   2480\u001b[0m     kwargs[\u001b[38;5;124m'\u001b[39m\u001b[38;5;124mlocal_ns\u001b[39m\u001b[38;5;124m'\u001b[39m] \u001b[38;5;241m=\u001b[39m \u001b[38;5;28mself\u001b[39m\u001b[38;5;241m.\u001b[39mget_local_scope(stack_depth)\n\u001b[1;32m   2481\u001b[0m \u001b[38;5;28;01mwith\u001b[39;00m \u001b[38;5;28mself\u001b[39m\u001b[38;5;241m.\u001b[39mbuiltin_trap:\n\u001b[0;32m-> 2482\u001b[0m     result \u001b[38;5;241m=\u001b[39m \u001b[43mfn\u001b[49m\u001b[43m(\u001b[49m\u001b[38;5;241;43m*\u001b[39;49m\u001b[43margs\u001b[49m\u001b[43m,\u001b[49m\u001b[43m \u001b[49m\u001b[38;5;241;43m*\u001b[39;49m\u001b[38;5;241;43m*\u001b[39;49m\u001b[43mkwargs\u001b[49m\u001b[43m)\u001b[49m\n\u001b[1;32m   2484\u001b[0m \u001b[38;5;66;03m# The code below prevents the output from being displayed\u001b[39;00m\n\u001b[1;32m   2485\u001b[0m \u001b[38;5;66;03m# when using magics with decorator @output_can_be_silenced\u001b[39;00m\n\u001b[1;32m   2486\u001b[0m \u001b[38;5;66;03m# when the last Python token in the expression is a ';'.\u001b[39;00m\n\u001b[1;32m   2487\u001b[0m \u001b[38;5;28;01mif\u001b[39;00m \u001b[38;5;28mgetattr\u001b[39m(fn, magic\u001b[38;5;241m.\u001b[39mMAGIC_OUTPUT_CAN_BE_SILENCED, \u001b[38;5;28;01mFalse\u001b[39;00m):\n",
      "File \u001b[0;32m~/.local/lib/python3.10/site-packages/IPython/core/magics/pylab.py:103\u001b[0m, in \u001b[0;36mPylabMagics.matplotlib\u001b[0;34m(self, line)\u001b[0m\n\u001b[1;32m     98\u001b[0m     \u001b[38;5;28mprint\u001b[39m(\n\u001b[1;32m     99\u001b[0m         \u001b[38;5;124m\"\u001b[39m\u001b[38;5;124mAvailable matplotlib backends: \u001b[39m\u001b[38;5;132;01m%s\u001b[39;00m\u001b[38;5;124m\"\u001b[39m\n\u001b[1;32m    100\u001b[0m         \u001b[38;5;241m%\u001b[39m _list_matplotlib_backends_and_gui_loops()\n\u001b[1;32m    101\u001b[0m     )\n\u001b[1;32m    102\u001b[0m \u001b[38;5;28;01melse\u001b[39;00m:\n\u001b[0;32m--> 103\u001b[0m     gui, backend \u001b[38;5;241m=\u001b[39m \u001b[38;5;28;43mself\u001b[39;49m\u001b[38;5;241;43m.\u001b[39;49m\u001b[43mshell\u001b[49m\u001b[38;5;241;43m.\u001b[39;49m\u001b[43menable_matplotlib\u001b[49m\u001b[43m(\u001b[49m\u001b[43margs\u001b[49m\u001b[38;5;241;43m.\u001b[39;49m\u001b[43mgui\u001b[49m\u001b[43m)\u001b[49m\n\u001b[1;32m    104\u001b[0m     \u001b[38;5;28mself\u001b[39m\u001b[38;5;241m.\u001b[39m_show_matplotlib_backend(args\u001b[38;5;241m.\u001b[39mgui, backend)\n",
      "File \u001b[0;32m~/.local/lib/python3.10/site-packages/IPython/core/interactiveshell.py:3667\u001b[0m, in \u001b[0;36mInteractiveShell.enable_matplotlib\u001b[0;34m(self, gui)\u001b[0m\n\u001b[1;32m   3664\u001b[0m     \u001b[38;5;28;01mimport\u001b[39;00m\u001b[38;5;250m \u001b[39m\u001b[38;5;21;01mmatplotlib_inline\u001b[39;00m\u001b[38;5;21;01m.\u001b[39;00m\u001b[38;5;21;01mbackend_inline\u001b[39;00m\n\u001b[1;32m   3666\u001b[0m \u001b[38;5;28;01mfrom\u001b[39;00m\u001b[38;5;250m \u001b[39m\u001b[38;5;21;01mIPython\u001b[39;00m\u001b[38;5;21;01m.\u001b[39;00m\u001b[38;5;21;01mcore\u001b[39;00m\u001b[38;5;250m \u001b[39m\u001b[38;5;28;01mimport\u001b[39;00m pylabtools \u001b[38;5;28;01mas\u001b[39;00m pt\n\u001b[0;32m-> 3667\u001b[0m gui, backend \u001b[38;5;241m=\u001b[39m \u001b[43mpt\u001b[49m\u001b[38;5;241;43m.\u001b[39;49m\u001b[43mfind_gui_and_backend\u001b[49m\u001b[43m(\u001b[49m\u001b[43mgui\u001b[49m\u001b[43m,\u001b[49m\u001b[43m \u001b[49m\u001b[38;5;28;43mself\u001b[39;49m\u001b[38;5;241;43m.\u001b[39;49m\u001b[43mpylab_gui_select\u001b[49m\u001b[43m)\u001b[49m\n\u001b[1;32m   3669\u001b[0m \u001b[38;5;28;01mif\u001b[39;00m gui \u001b[38;5;241m!=\u001b[39m \u001b[38;5;28;01mNone\u001b[39;00m:\n\u001b[1;32m   3670\u001b[0m     \u001b[38;5;66;03m# If we have our first gui selection, store it\u001b[39;00m\n\u001b[1;32m   3671\u001b[0m     \u001b[38;5;28;01mif\u001b[39;00m \u001b[38;5;28mself\u001b[39m\u001b[38;5;241m.\u001b[39mpylab_gui_select \u001b[38;5;129;01mis\u001b[39;00m \u001b[38;5;28;01mNone\u001b[39;00m:\n",
      "File \u001b[0;32m~/.local/lib/python3.10/site-packages/IPython/core/pylabtools.py:338\u001b[0m, in \u001b[0;36mfind_gui_and_backend\u001b[0;34m(gui, gui_select)\u001b[0m\n\u001b[1;32m    321\u001b[0m \u001b[38;5;28;01mdef\u001b[39;00m\u001b[38;5;250m \u001b[39m\u001b[38;5;21mfind_gui_and_backend\u001b[39m(gui\u001b[38;5;241m=\u001b[39m\u001b[38;5;28;01mNone\u001b[39;00m, gui_select\u001b[38;5;241m=\u001b[39m\u001b[38;5;28;01mNone\u001b[39;00m):\n\u001b[1;32m    322\u001b[0m \u001b[38;5;250m    \u001b[39m\u001b[38;5;124;03m\"\"\"Given a gui string return the gui and mpl backend.\u001b[39;00m\n\u001b[1;32m    323\u001b[0m \n\u001b[1;32m    324\u001b[0m \u001b[38;5;124;03m    Parameters\u001b[39;00m\n\u001b[0;32m   (...)\u001b[0m\n\u001b[1;32m    335\u001b[0m \u001b[38;5;124;03m    'WXAgg','Qt4Agg','module://matplotlib_inline.backend_inline','agg').\u001b[39;00m\n\u001b[1;32m    336\u001b[0m \u001b[38;5;124;03m    \"\"\"\u001b[39;00m\n\u001b[0;32m--> 338\u001b[0m     \u001b[38;5;28;01mimport\u001b[39;00m\u001b[38;5;250m \u001b[39m\u001b[38;5;21;01mmatplotlib\u001b[39;00m\n\u001b[1;32m    340\u001b[0m     \u001b[38;5;28;01mif\u001b[39;00m _matplotlib_manages_backends():\n\u001b[1;32m    341\u001b[0m         backend_registry \u001b[38;5;241m=\u001b[39m matplotlib\u001b[38;5;241m.\u001b[39mbackends\u001b[38;5;241m.\u001b[39mregistry\u001b[38;5;241m.\u001b[39mbackend_registry\n",
      "\u001b[0;31mModuleNotFoundError\u001b[0m: No module named 'matplotlib'"
     ]
    }
   ],
   "source": [
    "#%matplotlib inline"
   ]
  },
  {
   "cell_type": "markdown",
   "metadata": {},
   "source": [
    "## Visually inspect the ASCII data file from the Data/ directory\n",
    "The data file is zipped: `cdbrfss1999.zip`. Unzip it and look at it. It is in ASCII format.\n",
    "\n",
    "The file `Codebook99.rtf` contains a detailed explanation of the individual data entries. Use the\n",
    "Cookbook to understand the data columns that you are working on in this problem."
   ]
  },
  {
   "cell_type": "code",
   "execution_count": 1,
   "metadata": {},
   "outputs": [],
   "source": [
    "import zipfile\n",
    "import os\n",
    "\n",
    "cdbrfss1999 = \"Data/cdbrfss1999.zip\"\n",
    "with zipfile.ZipFile(cdbrfss1999, 'r') as zip_ref:\n",
    "    zip_ref.extractall('cdbrfss1999_unzipped')\n",
    "\n",
    "#with open('cdbrfss1999_unzipped/cdbrfss1999.csv', 'r') as file:\n",
    " #   print(file.read())\n",
    "\n"
   ]
  },
  {
   "cell_type": "markdown",
   "metadata": {},
   "source": [
    "## Large data\n",
    "\n",
    "The dataset contains 159989 entries."
   ]
  },
  {
   "cell_type": "markdown",
   "metadata": {},
   "source": [
    "**a.** Take a sample of 30000 from this dataset and export it to an ASCII file. Make sure that your method allows to draw more than one sample from the population. **[10 points]**"
   ]
  },
  {
   "cell_type": "code",
   "execution_count": 2,
   "metadata": {},
   "outputs": [
    {
     "name": "stdout",
     "output_type": "stream",
     "text": [
      "Defaulting to user installation because normal site-packages is not writeable\n",
      "Requirement already satisfied: pip in /home/vscode/.local/lib/python3.10/site-packages (25.0.1)\n",
      "Note: you may need to restart the kernel to use updated packages.\n",
      "Defaulting to user installation because normal site-packages is not writeable\n",
      "Requirement already satisfied: pandas in /home/vscode/.local/lib/python3.10/site-packages (2.2.3)\n",
      "Requirement already satisfied: numpy>=1.22.4 in /home/vscode/.local/lib/python3.10/site-packages (from pandas) (2.2.5)\n",
      "Requirement already satisfied: python-dateutil>=2.8.2 in /home/vscode/.local/lib/python3.10/site-packages (from pandas) (2.9.0.post0)\n",
      "Requirement already satisfied: pytz>=2020.1 in /home/vscode/.local/lib/python3.10/site-packages (from pandas) (2025.2)\n",
      "Requirement already satisfied: tzdata>=2022.7 in /home/vscode/.local/lib/python3.10/site-packages (from pandas) (2025.2)\n",
      "Requirement already satisfied: six>=1.5 in /home/vscode/.local/lib/python3.10/site-packages (from python-dateutil>=2.8.2->pandas) (1.17.0)\n",
      "Note: you may need to restart the kernel to use updated packages.\n"
     ]
    },
    {
     "name": "stderr",
     "output_type": "stream",
     "text": [
      "/tmp/ipykernel_2130/3874511820.py:5: DtypeWarning: Columns (8) have mixed types. Specify dtype option on import or set low_memory=False.\n",
      "  cdbrfss = pd.read_csv(\"Data/cdbrfss1999.zip\", compression='zip') # TODO: import the file cdbrfss1999.csv with the Pandas command pd.read_csv . This creates the DataFrame cdbrfss. You can read directly from the zip file with the compression='zip' option.\n"
     ]
    },
    {
     "name": "stdout",
     "output_type": "stream",
     "text": [
      "   STATE  GEOSTR  DENSTR    PSU  RECORD  IMONTH   IDAY   IYEAR  INTVID   \\\n",
      "0      1       1       1  10012       1        1     19    1999      40   \n",
      "1      1       1       1  10013       1        1     12    1999      33   \n",
      "2      1       1       1  10034       1        1     16    1999      45   \n",
      "3      1       1       1  10035       1        1     15    1999      45   \n",
      "4      1       1       1  10039       1        1     16    1999       0   \n",
      "\n",
      "   Unnamed: 9  ...  Unnamed: 272  Unnamed: 273  Unnamed: 274  Unnamed: 275  \\\n",
      "0         NaN  ...             1             9           1.0             1   \n",
      "1         NaN  ...             1             9           2.0             1   \n",
      "2         NaN  ...             1             9           1.0             1   \n",
      "3         NaN  ...             1             9           1.0             1   \n",
      "4         NaN  ...             1             9           1.0             1   \n",
      "\n",
      "   Unnamed: 276  Unnamed: 277  Unnamed: 278  Unnamed: 279  Unnamed: 280  \\\n",
      "0           3.0            11             2             1             1   \n",
      "1           3.0             8             1             1             1   \n",
      "2           1.0             3             1             1             1   \n",
      "3           1.0             2             1             1             1   \n",
      "4           2.0             6             1             1             1   \n",
      "\n",
      "   Unnamed: 281  \n",
      "0             1  \n",
      "1             1  \n",
      "2             1  \n",
      "3             1  \n",
      "4             1  \n",
      "\n",
      "[5 rows x 282 columns]\n"
     ]
    }
   ],
   "source": [
    "%pip install --upgrade pip\n",
    "%pip install pandas\n",
    "import pandas as pd\n",
    "\n",
    "cdbrfss = pd.read_csv(\"Data/cdbrfss1999.zip\", compression='zip') # TODO: import the file cdbrfss1999.csv with the Pandas command pd.read_csv . This creates the DataFrame cdbrfss. You can read directly from the zip file with the compression='zip' option.\n",
    "print(cdbrfss.head())"
   ]
  },
  {
   "cell_type": "markdown",
   "metadata": {},
   "source": [
    "Look up the `DataFrame.sample()` method here: [DOCUMENTATION](https://pandas.pydata.org/docs/reference/api/pandas.DataFrame.sample.html#pandas.DataFrame.sample)"
   ]
  },
  {
   "cell_type": "code",
   "execution_count": 8,
   "metadata": {},
   "outputs": [
    {
     "name": "stdout",
     "output_type": "stream",
     "text": [
      "        STATE  GEOSTR  DENSTR     PSU  RECORD  IMONTH   IDAY   IYEAR  INTVID   \\\n",
      "143787     51      11       1    7449       1        6     17    1999      D8   \n",
      "34670      16       2       1  120774       1       12      7    1999       5   \n",
      "111610     41       1       1   21240       1        2     12    1999      87   \n",
      "153124     55       4       1    8520       1       10      2    1999      F9   \n",
      "152667     55       1       1    8376       1       10      4    1999      G4   \n",
      "\n",
      "        Unnamed: 9  ...  Unnamed: 272  Unnamed: 273  Unnamed: 274  \\\n",
      "143787         NaN  ...             1             1           3.0   \n",
      "34670          NaN  ...             1             9           1.0   \n",
      "111610         NaN  ...             1             9           1.0   \n",
      "153124         NaN  ...             2             9           1.0   \n",
      "152667         NaN  ...             2             9           1.0   \n",
      "\n",
      "        Unnamed: 275  Unnamed: 276  Unnamed: 277  Unnamed: 278  Unnamed: 279  \\\n",
      "143787             1           1.0             1             1             1   \n",
      "34670              1           1.0             3             1             1   \n",
      "111610             1           2.0             7             1             1   \n",
      "153124             1           2.0             7             1             1   \n",
      "152667             1           3.0            11             2             1   \n",
      "\n",
      "        Unnamed: 280  Unnamed: 281  \n",
      "143787             1             1  \n",
      "34670              1             1  \n",
      "111610             1             1  \n",
      "153124             1             1  \n",
      "152667             1             1  \n",
      "\n",
      "[5 rows x 282 columns]\n"
     ]
    }
   ],
   "source": [
    "# TODO: Pandas DataFrames have the method .sample associated to randomly sample from the list. \n",
    "\n",
    "import pandas as pd\n",
    "cdbrfss = pd.read_csv(\"Data/cdbrfss1999.zip\", compression='zip', low_memory=False)\n",
    "sample_30000=cdbrfss.sample(n=30000, random_state=1)\n",
    "\n",
    "print(sample_30000.head())\n",
    "sample_30000.to_csv(\"Data/sample_30000.txt\", index=False, sep='\\t')\n"
   ]
  },
  {
   "cell_type": "markdown",
   "metadata": {},
   "source": [
    "**b.** Discuss your method to do so. Is your sampling a \"good sample\" in the sense that it is representative for the larger \"population\"? **[5 points]**\n",
    "\n",
    "\n",
    "Bevölkerungsdichte hat nahezu immer den Wert 1. Demnach ist das Sample in dieser Hinsicht keine repräsentative Stichprobe, da fast nur Daten von Personen aus städtischen Regionen vorkommen.\n"
   ]
  },
  {
   "cell_type": "markdown",
   "metadata": {},
   "source": [
    "## Large columns\n",
    "\n",
    "Each case in the dataset can have up to 241 variables. Each one of these variables corresponds to a question that was asked in the survey. For example, for **genhlth**, respondents were asked to evaluate their general health, responding either excellent, very good, good, fair or poor. The **exerany** variable indicates whether the respondent exercised in the past month (1) or did not (0). Likewise, **hlthplan** indicates whether the respondent had some form of health coverage (1) or did not (0). The **smoke100** variable indicates whether the respondent had smoked at least 100 cigarettes in her lifetime. The other variables record the respondent’s height in inches (**hti**) and feet (**htf**), **weight** in pounds as well as their desired weight, **wtdesire**, **age** in years, and **sex**."
   ]
  },
  {
   "cell_type": "markdown",
   "metadata": {},
   "source": [
    "**a.** Locate the columns corresponding to the variables **genhlth**, **exerany**, **htf**, **hti**, **smoke100**, **weight**, **wtdesire**, **age**, and **sex**."
   ]
  },
  {
   "cell_type": "markdown",
   "metadata": {},
   "source": [
    "Any reasonable method of isolating the columns and saving the subsample is accepted. For `pandas`, the list of column names is an attribute of the `DataFrame` object, and where columns without a column name are given the title 'Unnamed: [index]'."
   ]
  },
  {
   "cell_type": "code",
   "execution_count": 11,
   "metadata": {},
   "outputs": [
    {
     "name": "stdout",
     "output_type": "stream",
     "text": [
      "   GENHLTH  EXERANY  HTF  HTI  SMOKE100  WEIGHT  WTDESIRE  AGE  SEX\n",
      "0        3      NaN    5    6         1     130       NaN   73    2\n",
      "1        3      NaN    5    8         2     160       NaN   59    2\n",
      "2        2      NaN    5    2         2     118       NaN   31    2\n",
      "3        1      NaN    5    7         2     127       NaN   27    2\n",
      "4        1      NaN    5    8         1     175       NaN   49    2\n"
     ]
    }
   ],
   "source": [
    "import pandas as pd\n",
    "cdbrfss = pd.read_csv(\"Data/cdbrfss1999.zip\", compression='zip', low_memory=False)\n",
    "\n",
    "cdbrfss_columns=[\"GENHLTH\", \"EXERANY\", \"HTF\", \"HTI\", \"SMOKE100\", \"WEIGHT\", \"WTDESIRE\", \"AGE\", \"SEX\"]\n",
    "list_columns = cdbrfss[cdbrfss_columns]\n",
    "print(list_columns.head())\n"
   ]
  },
  {
   "cell_type": "code",
   "execution_count": null,
   "metadata": {},
   "outputs": [
    {
     "data": {
      "text/plain": [
       "Index(['STATE', 'GEOSTR', 'DENSTR', 'PSU', 'RECORD', 'IMONTH ', 'IDAY ',\n",
       "       'IYEAR ', 'INTVID ', 'Unnamed: 9',\n",
       "       ...\n",
       "       'Unnamed: 272', 'Unnamed: 273', 'Unnamed: 274', 'Unnamed: 275',\n",
       "       'Unnamed: 276', 'Unnamed: 277', 'Unnamed: 278', 'Unnamed: 279',\n",
       "       'Unnamed: 280', 'Unnamed: 281'],\n",
       "      dtype='object', length=282)"
      ]
     },
     "execution_count": 6,
     "metadata": {},
     "output_type": "execute_result"
    }
   ],
   "source": [
    "cdbrfss.columns"
   ]
  },
  {
   "cell_type": "code",
   "execution_count": null,
   "metadata": {},
   "outputs": [
    {
     "data": {
      "text/plain": [
       "array(['STATE', 'GEOSTR', 'DENSTR', 'PSU', 'RECORD', 'IMONTH ', 'IDAY ',\n",
       "       'IYEAR ', 'INTVID ', 'Unnamed: 9', 'DISPCODE', 'WINDDOWN', 'SEQNO',\n",
       "       'NATTMPTS', 'NRECSEL', 'NRECSTR', 'BPSELWT', 'WAKSS1S2',\n",
       "       'NUMADULT', 'NUMMEN', 'NUMWOMEN', 'GENHLTH', 'PHYSHLTH',\n",
       "       'MENTHLTH', 'POORHLTH', 'HLTHPLAN', 'MEDICAR2', 'TYPCOVR1',\n",
       "       'TYPCOVR2', 'NOCOV12', 'PASTPLAN', 'MEDCOST', 'CHECKUP', 'BPTAKE',\n",
       "       'BPHIGH', 'HIGHGT1', 'BLOODCHO', 'CHOLCHK', 'TOLDHI', 'DIABETES',\n",
       "       'LASTDEN2', 'RMVTEETH', 'DENCLEAN', 'SUNBURN', 'NUMBURN',\n",
       "       'SMOKE100', 'SMOKEDAY', 'SMOKENUM', 'SMOKNM30', 'STOPSMOK',\n",
       "       'LASTSMOK', 'DRINKANY', 'ALCOHOL', 'NALCOCC', 'DRINKGE5',\n",
       "       'DRINKDRI', 'AGE', 'ORACE', 'HISPANIC', 'MARITAL', 'CHLD04',\n",
       "       'CHLD0512', 'CHLD1317', 'EDUCA', 'EMPLOY', 'INCOME2', 'WEIGHT',\n",
       "       'HTF', 'HTI', 'CTYCODE', 'NUMHHOLD', 'NUMPHONS', 'SEX', 'HADMAM',\n",
       "       'HOWLONG', 'WHYDONE', 'PROFEXAM', 'LENGEXAM', 'REASEXAM', 'HADPAP',\n",
       "       'LASTPAP', 'WHYPAP', 'HADHYST', 'PREGNANT', 'FLUSHOT', 'FLUPROV',\n",
       "       'PNEUMVAC', 'BLDSTOOL', 'LSTBLDST', 'HADSIGM', 'LASTSIGM',\n",
       "       'CHLDLT16', 'BIKEHLMT', 'SMKDETE2', 'GRADE2', 'CONDUSE', 'GETHIV',\n",
       "       'DONBLD85', 'DON12MO', 'HIVTST2A', 'HIVTST2B', 'HIV12MO',\n",
       "       'TEST12MO', 'RSNTST2', 'WHRTST3', 'RESULTS', 'COUNSEL', 'DIABAGE',\n",
       "       'INSULIN', 'INSLNFRQ', 'BLDSUGAR', 'HEMOGLBN', 'DOCTDIAB',\n",
       "       'CHKHEMO', 'FEETCHK', 'EYEEXAM', 'VISNDIST', 'VISNREAD',\n",
       "       'VISIONTV', 'SEXINTMN', 'SEXCONDM', 'CONDLAST', 'CONEFF2',\n",
       "       'NEWPARTN', 'HIVRISK', 'STDTREAT', 'STDCLIN', 'SEXBEHA2',\n",
       "       'SELCPTN3', 'SEX1PTN3', 'USECOND3', 'PREGLST5', 'LSTPREG',\n",
       "       'LSTPREG2', 'BRTHCNTL', 'TYPCNTRL', 'RSNNOBC', 'WHRSVCS',\n",
       "       'FAMPLAN', 'LASTUSED', 'RSNNOCOV', 'MCRELNGT', 'DOCTLIST',\n",
       "       'CERTDOCT', 'HLTHCOVR', 'RSNWOCOV', 'RATECARE', 'PRIMCARE',\n",
       "       'NOPRIMCR', 'MOSTCARE', 'FACILIT2', 'DISTCARE', 'NUMBDOC2',\n",
       "       'CHNGDOCT', 'LASTCHNG', 'ASTHMA', 'ASTHNOW', 'PCSEATHB', 'PCSEXER',\n",
       "       'PCSINJPV', 'PCSDRGAB', 'PCSALCH', 'PCSSMOK', 'PCSAIDS',\n",
       "       'CVDFATRK', 'CVDEXRSK', 'CVDFAT02', 'CVDEXR02', 'CVDINFAR',\n",
       "       'CVDCORHD', 'CVDSTROK', 'CVDASPRN', 'ASPUNSAF', 'WHYASPAN',\n",
       "       'WHYASPHA', 'WHYASPSK', 'PASTMENO', 'DICSESTR', 'ESTRPILL',\n",
       "       'CURESTRO', 'ESTRHART', 'ESTRBONE', 'ESTRFLSH', 'PAIN12MN',\n",
       "       'SYMTMMTH', 'LMTJOINT', 'HAVARTH', 'TYPEARTH', 'TRTARTH',\n",
       "       'FRUITJUI', 'FRUIT', 'GREENSAL', 'POTATOES', 'CARROTS', 'VEGETABL',\n",
       "       'EXERANY', 'EXERACT1', 'EXERDIS1', 'EXEROFT1', 'EXERHMM1',\n",
       "       'EXEROTH2', 'EXERACT2', 'EXERDIS2', 'EXEROFT2', 'EXERHMM2',\n",
       "       'LOSEWT', 'MAINTAIN', 'FEWCAL', 'PHYACT', 'WTDESIRE', 'DRADVICE',\n",
       "       'VITAMINS', 'MULTIVIT', 'FOLICACD', 'TAKEVIT', 'RECOMMEN',\n",
       "       'SUNBLOCK', 'SPFNUM', 'AVOIDSUN', 'SUNHAT', 'SUNWEAR', 'SUNSENS',\n",
       "       'BURNTYPE', 'HOWSAFE', 'RENTHOME', 'CURADRS', 'NMCLSFRD',\n",
       "       'ENGHFOOD', 'TOBACCO', 'INDOORS', 'SMKPUBLC', 'SMKWORK', 'SMKREST',\n",
       "       'SMKSCHLS', 'SMKDAYCR', 'SMKINDOR', 'USEEVER', 'USENOW',\n",
       "       'STATEQUE ', 'Unnamed: 239', 'QSTVER', 'STSTR', 'Unnamed: 242',\n",
       "       'Unnamed: 243', 'Unnamed: 244', 'Unnamed: 245', 'Unnamed: 246',\n",
       "       'Unnamed: 247', 'Unnamed: 248', 'Unnamed: 249', 'Unnamed: 250',\n",
       "       'Unnamed: 251', 'Unnamed: 252', 'Unnamed: 253', 'Unnamed: 254',\n",
       "       'Unnamed: 255', 'Unnamed: 256', 'Unnamed: 257', 'Unnamed: 258',\n",
       "       'Unnamed: 259', 'Unnamed: 260', 'Unnamed: 261', 'Unnamed: 262',\n",
       "       'Unnamed: 263', 'Unnamed: 264', 'Unnamed: 265', 'Unnamed: 266',\n",
       "       'Unnamed: 267', 'Unnamed: 268', 'Unnamed: 269', 'Unnamed: 270',\n",
       "       'Unnamed: 271', 'Unnamed: 272', 'Unnamed: 273', 'Unnamed: 274',\n",
       "       'Unnamed: 275', 'Unnamed: 276', 'Unnamed: 277', 'Unnamed: 278',\n",
       "       'Unnamed: 279', 'Unnamed: 280', 'Unnamed: 281'], dtype=object)"
      ]
     },
     "execution_count": 7,
     "metadata": {},
     "output_type": "execute_result"
    }
   ],
   "source": [
    "cdbrfss.columns.values"
   ]
  },
  {
   "cell_type": "code",
   "execution_count": null,
   "metadata": {},
   "outputs": [],
   "source": [
    "# TODO: understand what the following commands do\n",
    "columns = {\"GENHLTH\":22, \"EXERANY\":196, \"HLTHPLAN\":26, \"SMOKE100\":46, \"HTF\":68, \"HTI\":69, \"WEIGHT\":67, \"WTDESIRE\":210, \"AGE\":57, \"SEX\":73}\n",
    "desired_column_names = [key for key, value in columns.items()]"
   ]
  },
  {
   "cell_type": "markdown",
   "metadata": {
    "slideshow": {
     "slide_type": "-"
    },
    "tags": [
     "problem_sheet"
    ]
   },
   "source": [
    "**b.** Reduce your sample to include only these variables and export it to an ASCII file. **[2 points]**"
   ]
  },
  {
   "cell_type": "markdown",
   "metadata": {},
   "source": [
    "- Use the method `DataFrame.loc` [DOCUMENTATION](https://pandas.pydata.org/docs/reference/api/pandas.DataFrame.loc.html) to select the columns you want.\n",
    "\n",
    "- Use the method `DataFrame.to_csv` [DOCUMENTATION](https://pandas.pydata.org/docs/reference/api/pandas.DataFrame.to_csv.html) to export the subset to a CSV file."
   ]
  },
  {
   "cell_type": "code",
   "execution_count": 3,
   "metadata": {},
   "outputs": [
    {
     "name": "stdout",
     "output_type": "stream",
     "text": [
      "        GENHLTH  EXERANY  HTF  HTI  SMOKE100  WEIGHT  WTDESIRE  AGE  SEX\n",
      "143787        2      1.0    5    6         2     140     134.0   19    2\n",
      "34670         2      NaN    5    8         1     140       NaN   30    2\n",
      "111610        1      NaN    5    7         1     150       NaN   52    2\n",
      "153124        3      NaN    5   10         2     204       NaN   51    1\n",
      "152667        2      NaN    5    4         2     180       NaN   72    2\n"
     ]
    }
   ],
   "source": [
    "import pandas as pd\n",
    "cdbrfss = pd.read_csv(\"Data/cdbrfss1999.zip\", compression='zip', low_memory=False)\n",
    "cdbrfss_columns=[\"GENHLTH\", \"EXERANY\", \"HTF\", \"HTI\", \"SMOKE100\", \"WEIGHT\", \"WTDESIRE\", \"AGE\", \"SEX\"]\n",
    "sample_30000_columns=cdbrfss.sample(n=30000, random_state=1).loc[:, cdbrfss_columns]\n",
    "\n",
    "print(sample_30000_columns.head())\n",
    "sample_30000_columns.to_csv(\"Data/sample_30000_columns.txt\", index=False, sep='\\t')"
   ]
  },
  {
   "cell_type": "markdown",
   "metadata": {},
   "source": [
    "**c.** How many cases and how many variables are there in your sample? **[2 points]**\n",
    "\n",
    "- (a) 9 cases; 30,000 variables\n",
    "\n",
    "- (b) 8 cases; 30,000 variables\n",
    "\n",
    "- (c) 30,000 cases; 9 variables\n",
    "\n",
    "- (d) 159,989 cases; 10 variables\n",
    "\n",
    "Antwort: (c) Es sind 30.000 Fälle und 9 Variablen in der Liste."
   ]
  },
  {
   "cell_type": "markdown",
   "metadata": {},
   "source": [
    "**d.** What type of variable is **genhlth**? **[2 points]**\n",
    "\n",
    "- (a) numerical, continuous\n",
    "\n",
    "- (b) numerical, discrete\n",
    "\n",
    "- (c) categorical (not ordinal)\n",
    "\n",
    "- (d) categorical, ordinal\n",
    "\n",
    "Antwort: (d)"
   ]
  },
  {
   "cell_type": "markdown",
   "metadata": {},
   "source": [
    "**e.** What type of variable is **weight**? **[2 points]**\n",
    "\n",
    "- (a) numerical, continuous\n",
    "\n",
    " - (b) numerical, discrete\n",
    "\n",
    " - (c) categorical (not ordinal)\n",
    "\n",
    " - (d) categorical, ordinal\n",
    "\n",
    " Antwort: (b) Obwohl Gewicht eigentlich in kontinuierlichen Werten angegeben wird, ist das Gewicht der Proband_innen (WEIGHT) hier mit diskreten Werten angegeben."
   ]
  },
  {
   "cell_type": "markdown",
   "metadata": {},
   "source": [
    "**f.** What type of variable is **smoke100**? **[2 points]**\n",
    "\n",
    " - (a) numerical, continuous\n",
    " \n",
    " - (b) numerical, discrete\n",
    " \n",
    " - (c) categorical (not ordinal)\n",
    " \n",
    " - (d) categorical, ordinal\n",
    "\n",
    " Antwort: (c)"
   ]
  },
  {
   "cell_type": "markdown",
   "metadata": {},
   "source": [
    "## One Bar chart\n",
    "\n",
    "Take all **genhlth** entries from your sample and draw a bar chart to visualize how the cases are distributed across the possible categories. Convert the numerical encoding to their represetations, e.g. 1 -> \"Excellent\". Check the data cookbook for details. **[10 points]**\n",
    "\n",
    "- You can use `DataFrame.value_counts` to return the distribution counts. [DOCUMENTATION](https://pandas.pydata.org/docs/reference/api/pandas.DataFrame.value_counts.html)\n",
    "\n",
    "- You can use `DataFrame.plot` to easily plot a Pandas Series or DataFrame. [DOCUMENTATION](https://pandas.pydata.org/docs/reference/api/pandas.DataFrame.plot.html)\n",
    "\n",
    "Label your axes!\n"
   ]
  },
  {
   "cell_type": "code",
   "execution_count": 15,
   "metadata": {},
   "outputs": [
    {
     "name": "stdout",
     "output_type": "stream",
     "text": [
      "Defaulting to user installation because normal site-packages is not writeable\n",
      "Requirement already satisfied: matplotlib in /home/vscode/.local/lib/python3.10/site-packages (3.10.1)\n",
      "Requirement already satisfied: contourpy>=1.0.1 in /home/vscode/.local/lib/python3.10/site-packages (from matplotlib) (1.3.2)\n",
      "Requirement already satisfied: cycler>=0.10 in /home/vscode/.local/lib/python3.10/site-packages (from matplotlib) (0.12.1)\n",
      "Requirement already satisfied: fonttools>=4.22.0 in /home/vscode/.local/lib/python3.10/site-packages (from matplotlib) (4.57.0)\n",
      "Requirement already satisfied: kiwisolver>=1.3.1 in /home/vscode/.local/lib/python3.10/site-packages (from matplotlib) (1.4.8)\n",
      "Requirement already satisfied: numpy>=1.23 in /home/vscode/.local/lib/python3.10/site-packages (from matplotlib) (2.2.5)\n",
      "Requirement already satisfied: packaging>=20.0 in /home/vscode/.local/lib/python3.10/site-packages (from matplotlib) (25.0)\n",
      "Requirement already satisfied: pillow>=8 in /home/vscode/.local/lib/python3.10/site-packages (from matplotlib) (11.2.1)\n",
      "Requirement already satisfied: pyparsing>=2.3.1 in /home/vscode/.local/lib/python3.10/site-packages (from matplotlib) (3.2.3)\n",
      "Requirement already satisfied: python-dateutil>=2.7 in /home/vscode/.local/lib/python3.10/site-packages (from matplotlib) (2.9.0.post0)\n",
      "Requirement already satisfied: six>=1.5 in /home/vscode/.local/lib/python3.10/site-packages (from python-dateutil>=2.7->matplotlib) (1.17.0)\n",
      "Note: you may need to restart the kernel to use updated packages.\n"
     ]
    },
    {
     "data": {
      "image/png": "[encoded data removed]",
      "text/plain": [
       "<Figure size 640x480 with 1 Axes>"
      ]
     },
     "metadata": {},
     "output_type": "display_data"
    }
   ],
   "source": [
    "import pandas as pd\n",
    "%pip install matplotlib\n",
    "import matplotlib.pyplot as plt\n",
    "\n",
    "\n",
    "data_frame = pd.read_csv(\"Data/sample_30000_columns.txt\", sep=\"\\t\")\n",
    "genhlth_mapping = {1: \"Excellent\", 2: \"Very Good\", 3: \"Good\", 4: \"Fair\", 5: \"Poor\"}\n",
    "\n",
    "data_frame['GENHLTH'] = data_frame['GENHLTH'].map(genhlth_mapping)\n",
    "\n",
    "genhlth_counts=data_frame['GENHLTH'].value_counts()\n",
    "\n",
    "genhlth_counts.plot(kind='bar', title='General Health Distribution', xlabel='Health Status', ylabel='Count')\n",
    "\n",
    "plt.show()"
   ]
  },
  {
   "cell_type": "markdown",
   "metadata": {},
   "source": [
    "## Two Bar Charts\n",
    "\n",
    "Combine the **smoke100** with the **genhlth** entries from your sample and draw __TWO__ bar charts, one showing the health of the smokers and a second one showing the health of the non-smokers. **[15 points]**"
   ]
  },
  {
   "cell_type": "markdown",
   "metadata": {},
   "source": [
    "## BMI\n",
    "\n",
    "Next let’s consider a new variable **bmi** that doesn’t show up directly in this data set: Body Mass Index (BMI).  **[20 points]**\n",
    "\n",
    "BMI is a weight to height ratio and can be calculated as.\n",
    "\n",
    "$$  \\mathrm{BMI} = \\frac{\\mathrm{weight(lb)}}{\\mathrm{height(in)}^2} * 703$$\n",
    "\n",
    "703 is the approximate conversion factor to change units to metric (meters and kilograms)\n",
    "from imperial (inches and pounds). Compute the bmi for each case in your sample and add it to\n",
    "the sample (e.g. as additional column). Visualize the distribution of the BMI in your sample.\n",
    "\n",
    "**ATTENTION**: Remember, that the height was given in feet and inches separately. make sure\n",
    "to compute the total height in inches! \n",
    "\n",
    "Look up the Cookbook definition. Note that the values in the height columns may have special values indicating invalid entries. E.g. 777 corresponds to an unknown or uincertain height in inches and 999 corresponds to a refused answer. Similar  issues arise with the height in feet numbers. Make sure to clean your data from these invalid entries. \n",
    "\n",
    "**HINT** You can use the `DataFrame.isin` method ( [DOCUMENTATION](https://pandas.pydata.org/docs/reference/api/pandas.DataFrame.isin.html)) together with the logical NOT operator `~` to only select contents from a list that are not in a list of values. Don't forget to convert feet to inches. The units package helps: "
   ]
  },
  {
   "cell_type": "code",
   "execution_count": 22,
   "metadata": {},
   "outputs": [
    {
     "name": "stdout",
     "output_type": "stream",
     "text": [
      "Defaulting to user installation because normal site-packages is not writeable\n",
      "Requirement already satisfied: matplotlib in /home/vscode/.local/lib/python3.10/site-packages (3.10.1)\n",
      "Requirement already satisfied: contourpy>=1.0.1 in /home/vscode/.local/lib/python3.10/site-packages (from matplotlib) (1.3.2)\n",
      "Requirement already satisfied: cycler>=0.10 in /home/vscode/.local/lib/python3.10/site-packages (from matplotlib) (0.12.1)\n",
      "Requirement already satisfied: fonttools>=4.22.0 in /home/vscode/.local/lib/python3.10/site-packages (from matplotlib) (4.57.0)\n",
      "Requirement already satisfied: kiwisolver>=1.3.1 in /home/vscode/.local/lib/python3.10/site-packages (from matplotlib) (1.4.8)\n",
      "Requirement already satisfied: numpy>=1.23 in /home/vscode/.local/lib/python3.10/site-packages (from matplotlib) (2.2.5)\n",
      "Requirement already satisfied: packaging>=20.0 in /home/vscode/.local/lib/python3.10/site-packages (from matplotlib) (25.0)\n",
      "Requirement already satisfied: pillow>=8 in /home/vscode/.local/lib/python3.10/site-packages (from matplotlib) (11.2.1)\n",
      "Requirement already satisfied: pyparsing>=2.3.1 in /home/vscode/.local/lib/python3.10/site-packages (from matplotlib) (3.2.3)\n",
      "Requirement already satisfied: python-dateutil>=2.7 in /home/vscode/.local/lib/python3.10/site-packages (from matplotlib) (2.9.0.post0)\n",
      "Requirement already satisfied: six>=1.5 in /home/vscode/.local/lib/python3.10/site-packages (from python-dateutil>=2.7->matplotlib) (1.17.0)\n",
      "Note: you may need to restart the kernel to use updated packages.\n"
     ]
    },
    {
     "data": {
      "image/png": "[encoded data removed]",
      "text/plain": [
       "<Figure size 640x480 with 1 Axes>"
      ]
     },
     "metadata": {},
     "output_type": "display_data"
    }
   ],
   "source": [
    "#(1 * u.imperial.foot).to(u.imperial.inch).value\n",
    "\n",
    "# Installieren Sie die Bibliothek striprtf, falls noch nicht geschehen\n",
    "#!pip install striprtf\n",
    "\n",
    "#from striprtf.striprtf import rtf_to_text\n",
    "\n",
    "# Pfad zur RTF-Datei\n",
    "#rtf_file_path = \"Data/Codebook_99.rtf\"\n",
    "\n",
    "# RTF-Datei lesen und entschlüsseln\n",
    "#with open(rtf_file_path, \"r\", encoding=\"utf-8\") as file:\n",
    " #   rtf_content = file.read()\n",
    "\n",
    "# RTF-Inhalt in lesbaren Text umwandeln\n",
    "#plain_text = rtf_to_text(rtf_content)\n",
    "\n",
    "# Entschlüsselten Text anzeigen\n",
    "#print(plain_text)\n",
    "\n",
    "# Optional: Entschlüsselten Text in eine neue Datei speichern\n",
    "#with open(\"Codebook_99_decoded.txt\", \"w\", encoding=\"utf-8\") as output_file:\n",
    "    #output_file.write(plain_text)\n",
    "\n",
    "\n",
    "import pandas as pd\n",
    "%pip install matplotlib\n",
    "import matplotlib.pyplot as plt\n",
    "\n",
    "# Datei laden\n",
    "file_path = \"Data/sample_30000_columns.txt\"\n",
    "data = pd.read_csv(file_path, sep='\\t')\n",
    "\n",
    "#Werte filtern\n",
    "invalid_values= [777,999]\n",
    "data=data[~data[\"HTF\"].isin(invalid_values)]\n",
    "data=data[~data[\"HTI\"].isin(invalid_values)]\n",
    "data = data[~data[\"WEIGHT\"].isin(invalid_values)]\n",
    "\n",
    "data[\"HEIGHT_IN_INCHES\"] = data[\"HTF\"] * 12 + data[\"HTI\"]  # Höhe in Zoll berechnen\n",
    "data[\"BMI\"] = (data[\"WEIGHT\"] / (data[\"HEIGHT_IN_INCHES\"] ** 2)) * 703\n",
    "\n",
    "# Verteilung des BMI visualisieren\n",
    "plt.hist(data[\"BMI\"], bins=30, color='skyblue', edgecolor='black')\n",
    "plt.title(\"Distribution of BMI\")\n",
    "plt.xlabel(\"BMI\")\n",
    "plt.ylabel(\"Frequency\")\n",
    "plt.grid(axis='y', linestyle='--', alpha=0.7)\n",
    "plt.show()\n",
    "\n",
    "# Optional: Daten mit BMI speichern\n",
    "data.to_csv(\"Data/sample_30000_with_bmi.txt\", sep='\\t', index=False)\n",
    "\n",
    "\n",
    "\n",
    "\n"
   ]
  },
  {
   "cell_type": "markdown",
   "metadata": {},
   "source": [
    "# 2. Multi-Dimensional Visualization [30 Points]\n",
    "\n",
    "There are many different possibilities to visualize data. In this exercise you should select a particular\n",
    "suitable way to visualize the provided data sets. Think about what information you want to relay and\n",
    "what method works best - be creative (especially for the high-dimensional data.\n",
    "\n",
    "The directory Data/ contains all data files for this problem in CSV-format.\n",
    "\n",
    "Here is a brief example on how to plot data from a Pandas dataframe."
   ]
  },
  {
   "cell_type": "code",
   "execution_count": null,
   "metadata": {},
   "outputs": [],
   "source": [
    "import numpy as np\n",
    "import pandas as pd\n",
    "from matplotlib import pyplot as plt "
   ]
  },
  {
   "cell_type": "markdown",
   "metadata": {},
   "source": [
    "Remember that Pandas allows to plot data very easily ([DOCUMENTATION](https://pandas.pydata.org/docs/reference/api/pandas.DataFrame.plot.html)):"
   ]
  },
  {
   "cell_type": "code",
   "execution_count": null,
   "metadata": {},
   "outputs": [
    {
     "data": {
      "image/png": "[encoded data removed]",
      "text/plain": [
       "<Figure size 432x288 with 1 Axes>"
      ]
     },
     "metadata": {
      "needs_background": "light"
     },
     "output_type": "display_data"
    },
    {
     "data": {
      "image/png": "[encoded data removed]",
      "text/plain": [
       "<Figure size 432x288 with 1 Axes>"
      ]
     },
     "metadata": {
      "needs_background": "light"
     },
     "output_type": "display_data"
    }
   ],
   "source": [
    "df = pd.DataFrame({'lab':['A', 'B', 'C'], 'val':[10, 30, 20]})\n",
    "\n",
    "ax = df.plot(kind='bar', x='lab', y='val', rot=0)\n",
    "\n",
    "ax = df.plot(title=\"DataFrame Plot\")"
   ]
  },
  {
   "cell_type": "markdown",
   "metadata": {},
   "source": [
    "## 1-D data\n",
    "\n",
    "Load the data in `Data/DATA-Exercise1-1D.csv`.\n",
    "\n",
    "Show the results of 1000 coin tosses (head \"H\" or tail \"T\").  **[5 points]**"
   ]
  },
  {
   "cell_type": "code",
   "execution_count": null,
   "metadata": {},
   "outputs": [
    {
     "data": {
      "image/png": "[encoded data removed]",
      "text/plain": [
       "<Figure size 640x480 with 1 Axes>"
      ]
     },
     "metadata": {},
     "output_type": "display_data"
    }
   ],
   "source": [
    "import pandas as pd\n",
    "import matplotlib.pyplot as plt\n",
    "\n",
    "# Datei laden\n",
    "file_path = \"Data/DATA-Exercise1-1D.csv\"\n",
    "data = pd.read_csv(file_path)\n",
    "\n",
    "# Werte zählen (z. B. Häufigkeit von \"H\" und \"T\")\n",
    "value_counts = data.value_counts()\n",
    "\n",
    "# DataFrame aus den Zählwerten erstellen\n",
    "df = value_counts.reset_index()\n",
    "df.columns = ['Outcome', 'Frequency']\n",
    "\n",
    "# Balkendiagramm mit pd.DataFrame.plot() erstellen\n",
    "ax = df.plot(kind='bar', x='Outcome', y='Frequency', color='skyblue', edgecolor='black', legend=False)\n",
    "\n",
    "# Achsen beschriften und Titel hinzufügen\n",
    "ax.set_title(\"Results of 1000 Coin Tosses\")\n",
    "ax.set_xlabel(\"Outcome (Head or Tail)\")\n",
    "ax.set_ylabel(\"Frequency\")\n",
    "plt.grid(axis='y', linestyle='--', alpha=0.7)\n",
    "\n",
    "# Diagramm anzeigen\n",
    "plt.show()\n"
   ]
  },
  {
   "cell_type": "markdown",
   "metadata": {
    "jp-MarkdownHeadingCollapsed": true
   },
   "source": [
    "## 2-D data\n",
    "\n",
    "Load the data in `Data/DATA-Exercise1-2D.csv`.\n",
    "\n",
    "Plot the world population since 10 000 B.C.  **[5 points]**"
   ]
  },
  {
   "cell_type": "code",
   "execution_count": 25,
   "metadata": {},
   "outputs": [
    {
     "data": {
      "image/png": "[encoded data removed]",
      "text/plain": [
       "<Figure size 640x480 with 1 Axes>"
      ]
     },
     "metadata": {},
     "output_type": "display_data"
    }
   ],
   "source": [
    "import pandas as pd\n",
    "import matplotlib.pyplot as plt\n",
    "import matplotlib.ticker as ticker\n",
    "from matplotlib.ticker import FuncFormatter\n",
    "\n",
    "# Datei laden\n",
    "file_path = \"Data/DATA-Exercise1-2D.csv\"\n",
    "data = pd.read_csv(file_path)\n",
    "\n",
    "\n",
    "def billions_formatter(x, pos):\n",
    "    return f'{x / 1e9:.1f}B'\n",
    "\n",
    "# Balkendiagramm mit pd.DataFrame.plot() erstellen\n",
    "ax = data.plot(kind='line', x='year', y='World Population (Spline Interpolation until 1950) (https://ourworldindata.org/world-population-growth/)', color='green', legend=False)\n",
    "\n",
    "# Achsen beschriften und Titel hinzufügen\n",
    "ax.set_title(\"World Popuation Over Time\")\n",
    "ax.set_xlabel(\"Year\")\n",
    "ax.set_ylabel(\"World Population\")\n",
    "ax.yaxis.set_major_formatter(FuncFormatter(billions_formatter))\n",
    "#plt.ticklabel_format(style='plain', axis='y')\n",
    "plt.grid(axis='y', linestyle='--', alpha=0.7)\n",
    "\n",
    "# Diagramm anzeigen\n",
    "plt.show()"
   ]
  },
  {
   "cell_type": "markdown",
   "metadata": {},
   "source": [
    "## 3-D data\n",
    "\n",
    "Load the data in `Data/DATA-Exercise1-3D.csv`.\n",
    "\n",
    "Display the intensity map (using the columns x, y, and intensity).  **[5 points]**"
   ]
  },
  {
   "cell_type": "markdown",
   "metadata": {},
   "source": [
    "## 4-D data\n",
    "\n",
    "Load the data in `Data/DATA-Exercise1-3D.csv`.\n",
    "\n",
    "How will you show the volume properties (using columns x, y, z, and value)  **[5 points]**"
   ]
  },
  {
   "cell_type": "markdown",
   "metadata": {},
   "source": [
    "## 5-D data\n",
    "\n",
    "Load the data in `Data/DATA-Exercise1-4D.csv`.\n",
    "\n",
    "Represent this table with columns \"Country\", \"PovertyFraction\", \"GDPPerCapita $\", \"MilitaryExpenditureFraction\", \"Population\". **[5 points]**"
   ]
  },
  {
   "cell_type": "markdown",
   "metadata": {},
   "source": [
    "## 6-D data\n",
    "\n",
    "Load the data in `Data/DATA-Exercise1-6D.csv`.\n",
    "\n",
    "Find a way to visually represent the data (with columns x, y, z, size, val, direction angle).  **[5 points]**"
   ]
  }
 ],
 "metadata": {
  "date": "",
  "kernelspec": {
   "display_name": "Python 3",
   "language": "python",
   "name": "python3"
  },
  "language_info": {
   "codemirror_mode": {
    "name": "ipython",
    "version": 3
   },
   "file_extension": ".py",
   "mimetype": "text/x-python",
   "name": "python",
   "nbconvert_exporter": "python",
   "pygments_lexer": "ipython3",
   "version": "3.10.12"
  },
  "title": ""
 },
 "nbformat": 4,
 "nbformat_minor": 4
}
